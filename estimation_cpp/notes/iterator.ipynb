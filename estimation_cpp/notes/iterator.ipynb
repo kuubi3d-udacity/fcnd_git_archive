#include <vector>
#include <iostream>

using namespace std;

int main ()
{
    vector<int> estimator;

    for (int i =1; i <=10; i++)
    {
        stuff.push_back(i);
    }

    for (int j = 0; j<10; j++)
    {
        cout << estimator[j] << endl;
    }
}   